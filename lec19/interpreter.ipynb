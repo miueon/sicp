{
 "cells": [
  {
   "cell_type": "code",
   "execution_count": 1,
   "metadata": {},
   "outputs": [
    {
     "data": {
      "text/plain": [
       "#'interpreter/todict"
      ]
     },
     "execution_count": 1,
     "metadata": {},
     "output_type": "execute_result"
    }
   ],
   "source": [
    "(ns interpreter)\n",
    "(def car first)\n",
    "(def cdr rest)\n",
    "(defn cadr [x] (car (cdr x)))\n",
    "(defn caddr [x] (car (cdr (cdr x))))\n",
    "(defn cadddr [x] (car (cdr (cdr (cdr x)))))\n",
    "(defn cddr [x] (cdr (cdr x)))\n",
    "(defn cadr [x] (car (cdr x)))\n",
    "\n",
    "(defn mput [m key value] (do (. m put key value) m))\n",
    "(defn todict [m] (into {} m))\n"
   ]
  },
  {
   "cell_type": "code",
   "execution_count": 2,
   "metadata": {},
   "outputs": [
    {
     "data": {
      "text/plain": [
       "java.util.HashMap"
      ]
     },
     "execution_count": 2,
     "metadata": {},
     "output_type": "execute_result"
    }
   ],
   "source": [
    "(import (java.util HashMap))\n",
    ";; (def ih2 (HashMap.))"
   ]
  },
  {
   "cell_type": "code",
   "execution_count": 9,
   "metadata": {},
   "outputs": [
    {
     "data": {
      "text/plain": [
       "{plus* (primitive #function[clojure.core/+]), true* true, greater* (primitive #function[clojure.core/>])}"
      ]
     },
     "execution_count": 9,
     "metadata": {},
     "output_type": "execute_result"
    }
   ],
   "source": [
    "(defn tag-check [e sym] (and (list? e) (= (car e) sym)))\n",
    "(defn sum? [e] (tag-check e 'plus*))\n",
    "(defn define? [exp] (tag-check exp 'define*))\n",
    "(defn application? [e] (list? e))\n",
    "(defn lambda? [e] (tag-check e 'lambda*))\n",
    "\n",
    "(defn eval [exp env]\n",
    "  (cond\n",
    "    (number? exp) exp\n",
    "    ;; (sum? exp) (eval-sum exp)\n",
    "    ;; part2\n",
    "    (symbol? exp) (lookup exp env)\n",
    "    (define? exp) (eval-define exp env)\n",
    "    ;; part3\n",
    "    ;; (greater? exp) (eval-greater exp)\n",
    "    (if? exp) (eval-if exp env)\n",
    "    (lambda? exp) (eval-lambda exp env)\n",
    "    (application? exp) (appli (eval (car exp)) (map eval (cdr exp)))\n",
    "    ;; part4 \n",
    "    ;; 1. (eval (car exp)) will extract the stored op from table\n",
    "    ;; 2. all of the arguments should be in the final status.\n",
    "    true (throw (Exception. (str exp)))))\n",
    "\n",
    "\n",
    "\n",
    ";; 2. names\n",
    "(def table-put! mput)\n",
    "(def table-get get)\n",
    "(def GV (HashMap.))\n",
    "\n",
    "\n",
    "(defn lookup [name env]\n",
    "  (let [value (table-get env name)]\n",
    "    (if (nil? value)\n",
    "      (throw (Exception. (str \"unbound variable: \" name)))\n",
    "      value)))\n",
    "\n",
    "(defn eval-define [exp env]\n",
    "  (let [name (cadr exp)\n",
    "        defined-to-be (caddr exp)]\n",
    "    (table-put! env name (eval defined-to-be env))\n",
    "    'undefined))\n",
    ";; 3. conditionals and if\n",
    ";; (defn greater? [exp] (tag-check exp 'greater*))\n",
    ";; (defn if? [exp] (tag-check exp 'if*))\n",
    "\n",
    "(defn eval-if [exp env]\n",
    "  (let [predicate (cadr exp)\n",
    "        consequent (caddr exp)\n",
    "        alternative (cadddr exp)]\n",
    "    (let [test (eval predicate)]\n",
    "      (cond\n",
    "        (= true test) (eval consequent env)\n",
    "        (= false test) (eval alternative env)\n",
    "        true (throw (Exception. (str \"predicate not a conditional: \" predicate)))))))\n",
    "\n",
    ";; 4. stored op\n",
    "\n",
    "(def prim-tag 'primitive)\n",
    "(defn primitive? [e] (tag-check e prim-tag))\n",
    "(defn make-primitive [sch-proc] (list prim-tag sch-proc))\n",
    "(defn get-sch-proc [prim] (cadr prim))\n",
    "\n",
    ";; (defn apply [opt operands]\n",
    ";;   (if (primitive? opt)\n",
    ";;     (sch-apply (get-sch-proc opt) operands)\n",
    ";;     (throw (Exception. (str \"operator not a procedure \" opt \" \" operands)))))\n",
    "\n",
    "(defn appli [op operands]\n",
    "  ;; (println op)\n",
    "  ;; (println operands)\n",
    "  (if (primitive? op)\n",
    "    (apply (get-sch-proc op) operands)\n",
    "    (throw (Exception.))))\n",
    "\n",
    "(defn eval-lambda [exp env] \n",
    "  (let [args (cadr exp) \n",
    "    body (caddr exp)]\n",
    "    (make-compound args body env)))\n",
    "\n",
    "(table-put! GV 'plus* (make-primitive +))\n",
    "(table-put! GV 'greater* (make-primitive >))\n",
    "(table-put! GV 'true* true)\n"
   ]
  },
  {
   "cell_type": "code",
   "execution_count": 10,
   "metadata": {},
   "outputs": [
    {
     "data": {
      "text/plain": [
       "3"
      ]
     },
     "execution_count": 10,
     "metadata": {},
     "output_type": "execute_result"
    }
   ],
   "source": [
    "(def exp '(plus* 24 (plus* 5 6)))\n",
    ";; (eval exp)\n",
    ";; names\n",
    ";; (eval '(define* x* (plus* 4 5)))\n",
    ";; (eval '(plus* x* 2))\n",
    "\n",
    ";; conditionals and if\n",
    ";; (eval '(define* y* 9))\n",
    ";; (eval '(if* (greater* y* 6) (plus* y* 2) 13))\n",
    "\n",
    ";; (eval '(define* z* 9) GV)\n",
    ";; (eval '(plus* 9 6))\n",
    "(apply (get-sch-proc (eval 'plus* GV)) (list 1 2))\n",
    ";; (eval '(if* true* 13 2))\n",
    ";; (eval ax)"
   ]
  }
 ],
 "metadata": {
  "kernelspec": {
   "display_name": "Clojure (clojupyter=0.3.2=1)",
   "language": "clojure",
   "name": "conda-clojupyter"
  },
  "language_info": {
   "file_extension": ".clj",
   "mimetype": "text/x-clojure",
   "name": "clojure",
   "version": "1.10.1"
  },
  "orig_nbformat": 4
 },
 "nbformat": 4,
 "nbformat_minor": 2
}
