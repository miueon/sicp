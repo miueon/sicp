{
 "cells": [
  {
   "cell_type": "code",
   "execution_count": 7,
   "metadata": {},
   "outputs": [
    {
     "data": {
      "text/plain": [
       "#'user/todict"
      ]
     },
     "execution_count": 7,
     "metadata": {},
     "output_type": "execute_result"
    }
   ],
   "source": [
    "(def car first)\n",
    "(def cdr rest)\n",
    "(defn cadr [x] (car (cdr x)))\n",
    "(defn caddr [x] (car (cdr (cdr x))))\n",
    "(defn cadddr [x] (car (cdr (cdr (cdr x)))))\n",
    "(defn cddr [x] (cdr (cdr x)))\n",
    "(defn cadr [x] (car (cdr x)))\n",
    "\n",
    "(defn mput [m key value] (do (. m put key value) m))\n",
    "(defn todict [m] (into {} m))"
   ]
  },
  {
   "cell_type": "code",
   "execution_count": 2,
   "metadata": {},
   "outputs": [
    {
     "data": {
      "text/plain": [
       "java.util.HashMap"
      ]
     },
     "execution_count": 2,
     "metadata": {},
     "output_type": "execute_result"
    }
   ],
   "source": [
    "(import (java.util HashMap))\n",
    ";; (def ih2 (HashMap.))"
   ]
  },
  {
   "cell_type": "code",
   "execution_count": 11,
   "metadata": {},
   "outputs": [
    {
     "data": {
      "text/plain": [
       "11"
      ]
     },
     "execution_count": 11,
     "metadata": {},
     "output_type": "execute_result"
    }
   ],
   "source": [
    "(defn tag-check [e sym] (and (list? e) (= (car e) sym)))\n",
    "(defn sum? [e] (tag-check e 'plus*))\n",
    "\n",
    "(defn eval-sum [exp] \n",
    "  (+ (eval (cadr exp)) (eval (caddr exp))))\n",
    ";; 2. names\n",
    "(def table-put! mput)\n",
    "(def table-get get)\n",
    "(def env (HashMap.))\n",
    "\n",
    "(defn define? [exp] (tag-check exp 'define*))\n",
    "(defn lookup [name] \n",
    "  (let [value (table-get env name)]\n",
    "    (if (nil? value)\n",
    "      (throw (Exception. (str \"unbound variable: \" name)))\n",
    "      value)))\n",
    "    \n",
    "(defn eval-define [exp] \n",
    "  (let [name (cadr exp)\n",
    "        defined-to-be (caddr exp)]\n",
    "    (table-put! env name (eval defined-to-be))\n",
    "    'undefined))\n",
    ";; 3. conditionals and if\n",
    "(defn greater? [exp] (tag-check exp 'greater*))\n",
    "(defn if? [exp] (tag-check exp 'if*))\n",
    "\n",
    "(defn eval-greater [exp] (> (eval (cadr exp)) (eval (caddr exp))))\n",
    "(defn eval-if [exp] \n",
    "  (let [predicate (cadr exp)\n",
    "        consequent (caddr exp)\n",
    "        alternative (cadddr exp)]\n",
    "    (let [test (eval predicate)]\n",
    "      (cond \n",
    "        (= true test) (eval consequent)\n",
    "        (= false test) (eval alternative)\n",
    "        true (throw (Exception. (str \"predicate not a conditional: \" predicate)))))))\n",
    "(defn eval [exp]\n",
    "  (cond\n",
    "    (number? exp) exp\n",
    "    (sum? exp) (eval-sum exp)\n",
    "    ;; part2\n",
    "    (symbol? exp) (lookup exp)\n",
    "    (define? exp) (eval-define exp)\n",
    "    ;; part3\n",
    "    (greater? exp) (eval-greater exp)\n",
    "    (if? exp) (eval-if exp)\n",
    "    true (throw (Exception. (str exp)))\n",
    "    ))\n",
    "\n",
    "(def exp '(plus* 24 (plus* 5 6)))\n",
    "(eval exp)\n",
    ";; names\n",
    ";; (eval '(define* x* (plus* 4 5)))\n",
    ";; (eval '(plus* x* 2))\n",
    "\n",
    ";; conditionals and if\n",
    ";; (eval '(define* y* 9))\n",
    ";; (eval '(if* (greater* y* 6) (plus* y* 2) 13))"
   ]
  },
  {
   "cell_type": "code",
   "execution_count": null,
   "metadata": {},
   "outputs": [],
   "source": []
  }
 ],
 "metadata": {
  "kernelspec": {
   "display_name": "Clojure (clojupyter=0.3.2=1)",
   "language": "clojure",
   "name": "conda-clojupyter"
  },
  "language_info": {
   "file_extension": ".clj",
   "mimetype": "text/x-clojure",
   "name": "clojure",
   "version": "1.10.1"
  },
  "orig_nbformat": 4
 },
 "nbformat": 4,
 "nbformat_minor": 2
}
