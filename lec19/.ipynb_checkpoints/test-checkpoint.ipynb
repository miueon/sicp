{
 "cells": [
  {
   "cell_type": "code",
   "execution_count": 2,
   "metadata": {
    "vscode": {
     "languageId": "ocaml"
    }
   },
   "outputs": [
    {
     "data": {
      "text/plain": [
       "- : string = \"hello world\"\n"
      ]
     },
     "execution_count": 2,
     "metadata": {},
     "output_type": "execute_result"
    }
   ],
   "source": [
    "\"hello world\""
   ]
  },
  {
   "cell_type": "code",
   "execution_count": null,
   "metadata": {
    "vscode": {
     "languageId": "ocaml"
    }
   },
   "outputs": [
    {
     "ename": "",
     "evalue": "",
     "output_type": "error",
     "traceback": [
      "\u001b[1;31mFailed to start the Kernel. \n",
      "ocaml-jupyter-kernel: 1: eval OPAM_SWITCH_PREFIX='/home/yuion/.opam/4.09.0'; export OPAM_SWITCH_PREFIX;\n",
      "CAML_LD_LIBRARY_PATH='/home/yuion/.opam/4.09.0/lib/stublibs:/home/yuion/.opam/4.09.0/lib/ocaml/stublibs:/home/yuion/.opam/4.09.0/lib/ocaml'; export CAML_LD_LIBRARY_PATH;\n",
      "OCAML_TOPLEVEL_PATH='/home/yuion/.opam/4.09.0/lib/toplevel'; export OCAML_TOPLEVEL_PATH;\n",
      "PKG_CONFIG_PATH='/home/yuion/.opam/4.09.0/lib/pkgconfig:'; export PKG_CONFIG_PATH;\n",
      "MANPATH=':/home/yuion/.opam/4.09.0/man'; export MANPATH;\n",
      "PATH='/home/yuion/.opam/4.09.0/bin:/home/yuion/.vscode-server/bin/dfd34e8260c270da74b5c2d86d61aee4b6d56977/bin/remote-cli:/home/yuion/miniconda3/bin:/home/yuion/miniconda3/condabin:/home/yuion/0.project/GoLang/bin:/usr/local/go/bin:/home/yuion/.cargo/bin:/usr/local/sbin:/usr/local/bin:/usr/sbin:/usr/bin:/sbin:/bin:/usr/games:/usr/local/games:/usr/lib/wsl/lib:/mnt/c/Windows/system32:/mnt/c/Windows:/mnt/c/Windows/System32/Wbem:/mnt/c/Windows/System32/WindowsPowerShell/v1.0:/mnt/c/Windows/System32/OpenSSH:/mnt/c/Program Files (x86)/Calibre2:/mnt/c/Program Files/dotnet:/mnt/c/Program Files (x86)/NVIDIA Corporation/PhysX/Common:/mnt/c/Program Files/NVIDIA Corporation/NVIDIA NvDLISR:/mnt/c/Program Files/Git/cmd:/mnt/c/Program Files/Docker/Docker/resources/bin:/mnt/c/ProgramData/DockerDesktop/version-bin:/mnt/c/Program Files/Bandizip:/mnt/c/Users/miueon/AppData/Local/Programs/Microsoft VS Code/bin:/mnt/c/Program Files (x86)/Tencent/QQGameTempest/Hall.57734:/home/yuion/.local/bin:/usr/local/cuda-11.4/bin'; export PATH; && /home/yuion/.opam/4.09.0/bin/ocaml-jupyter-kernel -init: not found. \n",
      "View Jupyter <a href='command:jupyter.viewOutput'>log</a> for further details."
     ]
    }
   ],
   "source": [
    "test"
   ]
  }
 ],
 "metadata": {
  "kernelspec": {
   "display_name": "OCaml 4.09.0",
   "language": "OCaml",
   "name": "ocaml-jupyter-4.09.0"
  },
  "language_info": {
   "codemirror_mode": "text/x-ocaml",
   "file_extension": ".ml",
   "mimetype": "text/x-ocaml",
   "name": "OCaml",
   "nbconverter_exporter": null,
   "pygments_lexer": "OCaml",
   "version": "4.09.0"
  }
 },
 "nbformat": 4,
 "nbformat_minor": 2
}
