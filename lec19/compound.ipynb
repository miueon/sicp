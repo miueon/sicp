{
 "cells": [
  {
   "cell_type": "code",
   "execution_count": 1,
   "metadata": {},
   "outputs": [],
   "source": [
    "#lang iracket/lang #:require sicp"
   ]
  },
  {
   "cell_type": "code",
   "execution_count": 2,
   "metadata": {},
   "outputs": [
    {
     "name": "stderr",
     "output_type": "stream",
     "text": [
      "meval: arity mismatch;\n",
      " the expected number of arguments does not match the given number\n",
      "  expected: 2\n",
      "  given: 1\n",
      "  context...:\n",
      "   eval:4:0: body of top-level\n"
     ]
    }
   ],
   "source": [
    "(define (tag-check e sym) (and (pair? e) (eq? (car e) sym)))\n",
    "\n",
    "(define (sum? e) (tag-check e 'plus*))\n",
    "(define (eval-sum exp)\n",
    "    (+ (eval (cadr exp)) (eval (caddr exp))))\n",
    "(define (eval exp)\n",
    "    (cond\n",
    "        ((number? exp) exp)\n",
    "        ((sum? exp) (eval-sum exp))\n",
    "        (else\n",
    "            (error \"unknown expression \" exp))))\n",
    "\n",
    "(eval '(plus* 24 (plus* 5 6)))\n",
    "\n"
   ]
  },
  {
   "cell_type": "code",
   "execution_count": null,
   "metadata": {},
   "outputs": [],
   "source": [
    "(define* x* (plus* 4 5))"
   ]
  },
  {
   "cell_type": "code",
   "execution_count": null,
   "metadata": {},
   "outputs": [],
   "source": [
    "(define (eval exp)\n",
    "    (cond\n",
    "        ((number? exp) exp)\n",
    "        ((sum? exp) (eval-sum exp))\n",
    "        (else\n",
    "            (error \"unknown expression \" exp))))"
   ]
  },
  {
   "cell_type": "code",
   "execution_count": null,
   "metadata": {},
   "outputs": [],
   "source": [
    "(define (define? exp) (tag-check exp 'define*))\n",
    "\n",
    "(define (eval exp)\n",
    "    (cond\n",
    "        ((number? exp) exp)))"
   ]
  }
 ],
 "metadata": {
  "kernelspec": {
   "display_name": "Racket",
   "language": "racket",
   "name": "racket"
  },
  "language_info": {
   "codemirror_mode": "scheme",
   "file_extension": ".rkt",
   "mimetype": "text/x-racket",
   "name": "racket",
   "pygments_lexer": "racket",
   "version": "8.4"
  },
  "orig_nbformat": 4
 },
 "nbformat": 4,
 "nbformat_minor": 2
}
