{
 "cells": [
  {
   "cell_type": "code",
   "execution_count": 1,
   "metadata": {
    "vscode": {
     "languageId": "racket"
    }
   },
   "outputs": [],
   "source": [
    "#lang iracket/lang #:require sicp"
   ]
  },
  {
   "cell_type": "code",
   "execution_count": 9,
   "metadata": {
    "vscode": {
     "languageId": "racket"
    }
   },
   "outputs": [],
   "source": [
    "(define (pln str)\n",
    "    (display str)\n",
    "    (display \"\\n\"))"
   ]
  },
  {
   "cell_type": "code",
   "execution_count": 11,
   "metadata": {
    "vscode": {
     "languageId": "racket"
    }
   },
   "outputs": [
    {
     "name": "stdout",
     "output_type": "stream",
     "text": [
      "4\n",
      "0\n",
      "0\n",
      "0\n",
      "9504\n"
     ]
    },
    {
     "data": {
      "text/html": [
       "<code>#t</code>"
      ],
      "text/plain": [
       "#t"
      ]
     },
     "execution_count": 11,
     "metadata": {},
     "output_type": "execute_result"
    }
   ],
   "source": [
    "\"Part 1: Numerical integration\"\n",
    "\n",
    "\"Problem 1: Bitdiddle's function\"\n",
    "; calculate the value of funciton f(x) = x^4 - 5 * x^2 + 4\n",
    "(define (bitfunc x)\n",
    "    (+ (expt x 4) (- (* 5 (expt x 2))) 4))\n",
    "\n",
    "; Some simple test cases, based on by-eye examination of a graph of the\n",
    "; function: https://www.google.com/search?q=x^4-5*x^2%2B4   Run these,\n",
    "; and check that they match with the expectations.\n",
    "(pln (bitfunc 0))  ;; Should be 4\n",
    "(pln (bitfunc 1))  ;; Should be 0, or very close\n",
    "(pln (bitfunc 2))  ;; Should also be very close to 0\n",
    "(pln (bitfunc -1)) ;; Should also also be very close to 0\n",
    "(pln (bitfunc 10)) ;; Should be pretty big, and positive\n",
    "\n",
    "(eq? (bitfunc 10) 9504)\n"
   ]
  },
  {
   "cell_type": "code",
   "execution_count": 19,
   "metadata": {
    "vscode": {
     "languageId": "racket"
    }
   },
   "outputs": [
    {
     "name": "stdout",
     "output_type": "stream",
     "text": [
      "#t\n",
      "#t\n"
     ]
    },
    {
     "data": {
      "text/html": [
       "<code>-1.09375</code>"
      ],
      "text/plain": [
       "-1.09375"
      ]
     },
     "execution_count": 19,
     "metadata": {},
     "output_type": "execute_result"
    }
   ],
   "source": [
    "\"Problem 2: A rectangle under Bitdiddle's function\"\n",
    "\n",
    "(define (bitfunc-rect x1 x2)\n",
    "    (let ((fx1 (bitfunc x1))\n",
    "        (width (- x2 x1)))\n",
    "        (* fx1 width)))\n",
    "\n",
    ";; Test cases:\n",
    "(pln (eq? (bitfunc-rect 0 1) 4))   ;; Should be 4\n",
    "(pln (equal? (bitfunc-rect 0 0.5) 2.0)) ;; Should be 2\n",
    "(bitfunc-rect 1.5 2) ;; Should be negative\n",
    "\n"
   ]
  },
  {
   "cell_type": "code",
   "execution_count": 38,
   "metadata": {
    "vscode": {
     "languageId": "racket"
    }
   },
   "outputs": [
    {
     "name": "stdout",
     "output_type": "stream",
     "text": [
      "18325.86583333"
     ]
    }
   ],
   "source": [
    "\"Problem 3: Integrating Bitdiddle's function\"\n",
    "\n",
    "(define (bitfunc-integral-recur num-steps x1 x2)\n",
    "    (define stride (/ (- x2 x1) num-steps))\n",
    "    (define (integral-helper num-steps x)\n",
    "        (cond \n",
    "            ((< num-steps 1) (error \"steps should be 1 or more\"))\n",
    "            ((equal? num-steps 1) (bitfunc-rect x (+ x stride)))\n",
    "            (else (+ (bitfunc-rect x (+ x stride)) (integral-helper (- num-steps 1) (+ x stride))))\n",
    "        ))\n",
    "    (integral-helper num-steps x1)\n",
    "    )\n",
    "; (display (/ (bitfunc-integral-recur 1000000 0 10) 1.0))\n",
    "(define (bitfunc-integral-iter num-steps x1 x2)\n",
    "    (define stride (/ (- x2 x1) num-steps))\n",
    "    (define (integral-helper num-steps x previous)\n",
    "        (cond\n",
    "            ((< num-steps 1) (error \"steps should be 1 or more\"))\n",
    "            ((equal? num-steps 1) (+ previous (bitfunc-rect x (+ x stride))))\n",
    "            (else (integral-helper (- num-steps 1) (+ x stride) (+ previous (bitfunc-rect x (+ x stride)))))\n",
    "            )\n",
    "    )\n",
    "    (integral-helper num-steps x1 0)\n",
    ")\n",
    "\n",
    "(display (/ (bitfunc-integral-iter 1000 0 10) 1.0))\n",
    ";; Provide your own test cases for this function.  Think about what are\n",
    ";; the simplest input values to know are correct, and show that those\n",
    ";; work as expected before moving on to test a couple more complicated\n",
    ";; situations.\n"
   ]
  },
  {
   "cell_type": "code",
   "execution_count": 39,
   "metadata": {
    "vscode": {
     "languageId": "racket"
    }
   },
   "outputs": [
    {
     "name": "stdout",
     "output_type": "stream",
     "text": [
      "18325.86583333"
     ]
    }
   ],
   "source": [
    "(display (/ (bitfunc-integral-recur 1000 0 10) 1.0))"
   ]
  },
  {
   "cell_type": "code",
   "execution_count": 40,
   "metadata": {
    "vscode": {
     "languageId": "racket"
    }
   },
   "outputs": [],
   "source": [
    "\n",
    "\"Problem 4: Comparing the two integrators\"\n",
    "\n",
    "(define (bitfunc-integral-difference num-steps x1 x2)\n",
    "    (abs (- (bitfunc-integral-recur num-steps x1 x2) (bitfunc-integral-iter num-steps x1 x2))))\n",
    "\n",
    ";; Provide test cases for this one as well; only a couple should be\n",
    ";; needed, as this function should be fairly straightforward."
   ]
  },
  {
   "cell_type": "code",
   "execution_count": 43,
   "metadata": {
    "vscode": {
     "languageId": "racket"
    }
   },
   "outputs": [
    {
     "data": {
      "text/html": [
       "<code>0</code>"
      ],
      "text/plain": [
       "0"
      ]
     },
     "execution_count": 43,
     "metadata": {},
     "output_type": "execute_result"
    }
   ],
   "source": [
    "(bitfunc-integral-difference 10000 0 150)"
   ]
  }
 ],
 "metadata": {
  "kernelspec": {
   "display_name": "Racket",
   "language": "racket",
   "name": "racket"
  },
  "language_info": {
   "codemirror_mode": "scheme",
   "file_extension": ".rkt",
   "mimetype": "text/x-racket",
   "name": "Racket",
   "pygments_lexer": "racket",
   "version": "8.4"
  },
  "orig_nbformat": 4
 },
 "nbformat": 4,
 "nbformat_minor": 2
}
