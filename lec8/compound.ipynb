{
 "cells": [
  {
   "cell_type": "code",
   "execution_count": 8,
   "metadata": {},
   "outputs": [],
   "source": [
    "#lang iracket/lang #:require sicp\n",
    "\n",
    "(#%require sicp-pict)\n"
   ]
  },
  {
   "cell_type": "code",
   "execution_count": 1,
   "metadata": {},
   "outputs": [
    {
     "name": "stderr",
     "output_type": "stream",
     "text": [
      "paint: undefined;\n",
      " cannot reference an identifier before its definition\n",
      "  in module: top-level\n",
      "  context...:\n",
      "   body of top-level\n",
      "   /usr/share/racket/pkgs/sandbox-lib/racket/sandbox.rkt:709:9: loop\n"
     ]
    }
   ],
   "source": [
    "(paint einstein)\n",
    "(paint einstein)\n"
   ]
  },
  {
   "cell_type": "code",
   "execution_count": 10,
   "metadata": {},
   "outputs": [
    {
     "name": "stderr",
     "output_type": "stream",
     "text": [
      "xcor: undefined;\n",
      " cannot reference an identifier before its definition\n",
      "  in module: top-level\n",
      "  context...:\n",
      "   body of top-level\n"
     ]
    }
   ],
   "source": [
    "(define (george rect)\n",
    "    (draw-line rect .25 0 .35 .5)\n",
    "    (draw-line rect .35 .5 .3 .6)\n",
    "    (draw-line rect .3 .6 .15 .4)\n",
    "    (draw-line rect .15 .4 0 .65)\n",
    "    (draw-line rect .4 0 .5 .3)\n",
    "    (draw-line rect .5 .3 .6 0)\n",
    "    (draw-line rect .75 0 .6 .45)\n",
    "    (draw-line rect .6 .45 1 .15)\n",
    "    (draw-line rect 1 .35 .75 .65)\n",
    "    (draw-line rect .75 .65 .6 .65)\n",
    "    (draw-line rect .6 .65 .65 .85)\n",
    "    (draw-line rect .65 .85 .6 1)\n",
    "    (draw-line rect .4 1 .35 .85)\n",
    "    (draw-line rect .35 .85 .4 .65)\n",
    "    (draw-line rect .4 .65 .3 .65)\n",
    "    (draw-line rect .3 .65 .15 .6)\n",
    "    (draw-line rect .15 .6 0 .85)\n",
    "    )\n",
    "\n",
    ";; the definition of george is too specific."
   ]
  },
  {
   "cell_type": "code",
   "execution_count": 2,
   "metadata": {},
   "outputs": [
    {
     "name": "stdout",
     "output_type": "stream",
     "text": [
      "test"
     ]
    }
   ],
   "source": [
    "\n",
    "(display \"test\")"
   ]
  }
 ],
 "metadata": {
  "kernelspec": {
   "display_name": "Racket",
   "language": "racket",
   "name": "racket"
  },
  "language_info": {
   "codemirror_mode": "scheme",
   "file_extension": ".rkt",
   "mimetype": "text/x-racket",
   "name": "Racket",
   "pygments_lexer": "racket",
   "version": "8.3"
  },
  "orig_nbformat": 4
 },
 "nbformat": 4,
 "nbformat_minor": 2
}
