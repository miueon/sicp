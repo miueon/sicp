{
 "cells": [
  {
   "cell_type": "code",
   "execution_count": 2,
   "metadata": {},
   "outputs": [
    {
     "data": {
      "text/plain": [
       "#'user/square"
      ]
     },
     "execution_count": 2,
     "metadata": {},
     "output_type": "execute_result"
    }
   ],
   "source": [
    "(defn close? [u v] (< (Math/abs (- u v)) 0.001))\n",
    "(defn fixed-point [f i-guess]\n",
    "  (defn try* [g]\n",
    "    (if (close? (f g) g)\n",
    "      (f g)\n",
    "      (try* (f g))))\n",
    "  (try* i-guess))\n",
    ";; \n",
    "(defn average [a b]\n",
    "  (/ (+ a b) 2.0))\n",
    "(defn square [x] (* x x))"
   ]
  },
  {
   "cell_type": "code",
   "execution_count": 3,
   "metadata": {},
   "outputs": [
    {
     "data": {
      "text/plain": [
       "4.582575694960138"
      ]
     },
     "execution_count": 3,
     "metadata": {},
     "output_type": "execute_result"
    }
   ],
   "source": [
    "\n",
    ";(average 10 5)\n",
    "(defn average-damp [f]\n",
    "  (fn [x] (average x (f x))))\n",
    ";((average-damp (fn [x] (+ 1 x))) 1)  \n",
    "(defn sqrt [x]\n",
    "  (fixed-point (average-damp (fn [y]  (/ x y))) 1))\n",
    "\n",
    "(sqrt 21)"
   ]
  },
  {
   "cell_type": "code",
   "execution_count": 4,
   "metadata": {},
   "outputs": [
    {
     "data": {
      "text/plain": [
       "#'user/pi"
      ]
     },
     "execution_count": 4,
     "metadata": {},
     "output_type": "execute_result"
    }
   ],
   "source": [
    "(def gravity 9.8)\n",
    "(def pi 3.14159)"
   ]
  },
  {
   "cell_type": "code",
   "execution_count": 7,
   "metadata": {},
   "outputs": [
    {
     "data": {
      "text/plain": [
       "92.5"
      ]
     },
     "execution_count": 7,
     "metadata": {},
     "output_type": "execute_result"
    }
   ],
   "source": [
    "(defn position [a v u t]\n",
    "  (+ u\n",
    "     (* v t)\n",
    "     (* 0.5 a (square t))))\n",
    "\n",
    "(position 0 0 0 0)\n",
    "(position 0 0 20 0)\n",
    "\n",
    "(position 5 5 5 5)"
   ]
  },
  {
   "cell_type": "code",
   "execution_count": 8,
   "metadata": {},
   "outputs": [
    {
     "name": "stdout",
     "output_type": "stream",
     "text": [
      "0.0\n"
     ]
    },
    {
     "data": {
      "text/plain": [
       "nil"
      ]
     },
     "execution_count": 8,
     "metadata": {},
     "output_type": "execute_result"
    }
   ],
   "source": [
    "(defn inner [a b c] (- (square b) (* 4 a c)))\n",
    "(defn root1 [a b c] \n",
    "  (let [inner-val (inner a b c)]\n",
    "    (if (< inner-val 0)\n",
    "      false\n",
    "      (/ (+ (- b) (sqrt inner-val))\n",
    "         (* 2 a)))))\n",
    "        \n",
    "(defn root2 [a b c] \n",
    "  (let [inner-val (inner a b c)]\n",
    "    (if (< inner-val 0)\n",
    "      false\n",
    "      (/ (- (- b) (sqrt inner-val))\n",
    "         (* 2 a)))))\n",
    "(defn test-root [a b c]\n",
    "  (println (root1 a b c))\n",
    "  (println (root2 a b c)))\n",
    "\n",
    "(def ax (* (- 0.5) gravity))\n",
    "(println (inner ax gravity (- 4.9)))"
   ]
  },
  {
   "cell_type": "code",
   "execution_count": 9,
   "metadata": {},
   "outputs": [
    {
     "data": {
      "text/plain": [
       "1.0000996492346939"
      ]
     },
     "execution_count": 9,
     "metadata": {},
     "output_type": "execute_result"
    }
   ],
   "source": [
    "(defn time-to-impact [vertical-velocity elevation]\n",
    "  (root2 ax vertical-velocity elevation))\n",
    "\n",
    "(defn time-to-height [vertical-velocity elevation target-elevation]\n",
    "  (time-to-impact vertical-velocity (- elevation target-elevation)))\n",
    "\n",
    "(time-to-height gravity 0 4.9)"
   ]
  },
  {
   "cell_type": "code",
   "execution_count": 18,
   "metadata": {},
   "outputs": [
    {
     "name": "stdout",
     "output_type": "stream",
     "text": [
      "9.799999999991376\n"
     ]
    },
    {
     "data": {
      "text/plain": [
       "nil"
      ]
     },
     "execution_count": 18,
     "metadata": {},
     "output_type": "execute_result"
    }
   ],
   "source": [
    "(defn degree2radian [deg] (/ (* deg pi) 180.))\n",
    "\n",
    "(defn travel-distance-simple [elevation velocity angle]\n",
    "  (let [vertical-velocity (* (Math/sin (degree2radian angle)) velocity)\n",
    "        horizontal-velocity (* (Math/cos (degree2radian angle)) velocity)]\n",
    "    (def elapsed (time-to-impact vertical-velocity elevation))\n",
    "    (* elapsed horizontal-velocity))\n",
    ")\n",
    "\n",
    "(println (travel-distance-simple 0 gravity 45))\n",
    "\n",
    "(defn meters-to-feet [m] (/ (* m 39.6) 12))\n",
    "\n",
    "(defn feet-to-meters [f] (/ (* f 12) 39.6))"
   ]
  },
  {
   "cell_type": "code",
   "execution_count": 24,
   "metadata": {},
   "outputs": [
    {
     "name": "stdout",
     "output_type": "stream",
     "text": [
      "44.999999999999616\n",
      "9.799999999991376\n",
      "8.487044622913961\n"
     ]
    },
    {
     "data": {
      "text/plain": [
       "nil"
      ]
     },
     "execution_count": 24,
     "metadata": {},
     "output_type": "execute_result"
    }
   ],
   "source": [
    "(def alpha-increment 0.01)\n",
    "\n",
    "(defn find-best-angle [velocity elevation]\n",
    "  (defn tryx [angle max-dist max-angle]\n",
    "    (let [dist (travel-distance-simple elevation velocity angle)]\n",
    "      (if (< dist max-dist)\n",
    "        max-angle\n",
    "        (tryx (+ alpha-increment angle) dist angle))))\n",
    "  (tryx 0 0 0))\n",
    "\n",
    "(def elevation 0)\n",
    "(def velocity gravity)\n",
    "(println (find-best-angle velocity elevation))\n",
    "(defn angle-dist [angle]\n",
    "  (travel-distance-simple elevation velocity angle))\n",
    "\n",
    "(println (angle-dist 45))\n",
    "(println (angle-dist 30))"
   ]
  },
  {
   "cell_type": "code",
   "execution_count": 3,
   "metadata": {},
   "outputs": [
    {
     "name": "stderr",
     "output_type": "stream",
     "text": [
      "Syntax error compiling at (REPL:1:1).\n",
      "Unable to find static field: sin in class java.lang.Math\n"
     ]
    },
    {
     "ename": "class clojure.lang.Compiler$CompilerException",
     "evalue": "",
     "output_type": "error",
     "traceback": [
      "  Util.java:   221 clojure.lang.Util/runtimeException",
      "   core.clj:  3214 clojure.core$eval/invokeStatic",
      "   core.clj:  3210 clojure.core$eval/invoke",
      "   main.clj:   437 clojure.main$repl$read_eval_print__9086$fn__9089/invoke",
      "   main.clj:   458 clojure.main$repl$fn__9095/invoke",
      "   main.clj:   368 clojure.main$repl/doInvoke",
      "RestFn.java:  1523 clojure.lang.RestFn/invoke",
      "   AFn.java:    22 clojure.lang.AFn/run",
      "   AFn.java:    22 clojure.lang.AFn/run",
      "Thread.java:   745 java.lang.Thread/run"
     ]
    }
   ],
   "source": []
  }
 ],
 "metadata": {
  "kernelspec": {
   "display_name": "Clojure (clojupyter=0.3.2=1)",
   "language": "clojure",
   "name": "conda-clojupyter"
  },
  "language_info": {
   "file_extension": ".clj",
   "mimetype": "text/x-clojure",
   "name": "clojure",
   "version": "1.10.1"
  },
  "orig_nbformat": 4
 },
 "nbformat": 4,
 "nbformat_minor": 2
}
