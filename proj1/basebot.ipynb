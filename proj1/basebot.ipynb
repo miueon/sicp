{
 "cells": [
  {
   "cell_type": "code",
   "execution_count": 8,
   "metadata": {},
   "outputs": [],
   "source": [
    "#lang iracket/lang #:require sicp\n",
    "\n",
    "(define pi 3.14)"
   ]
  },
  {
   "cell_type": "code",
   "execution_count": 12,
   "metadata": {},
   "outputs": [],
   "source": [
    ";;; Project 1, 6.001, Spring 2005\n",
    "\n",
    ";;; idea is to simulate a baseball robot\n",
    "\n",
    ";; imagine hitting a ball with an initial velocity of v \n",
    ";; at an angle alpha from the horizontal, at a height h\n",
    ";; we would like to know how far the ball travels.\n",
    "\n",
    ";; as a first step, we can just model this with simple physics\n",
    ";; so the equations of motion for the ball have a vertical and a \n",
    ";; horizontal component\n",
    "\n",
    ";; the vertical component is governed by\n",
    ";; y(t) = v sin alpha t + h - 1/2 g t^2 \n",
    ";; where g is the gravitational constant of 9.8 m/s^2\n",
    "\n",
    ";; the horizontal component is governed by\n",
    ";; x(t) = v cos alpha t\n",
    ";; assuming it starts at the origin\n",
    "\n",
    ";; First, we want to know when the ball hits the ground\n",
    ";; this is governed by the quadratic equation, so we just need to know when \n",
    ";; y(t)=0 (i.e. for what t_impact is y(t_impact)= 0).\n",
    ";; note that there are two solutions, only one makes sense physically\n",
    "\n",
    "(define square\n",
    "  (lambda (x) (* x x)))\n",
    "\n",
    ";; these are constants that will be useful to us\n",
    "(define gravity 9.8)  ;; in m/s\n",
    "(define pi 3.14159)"
   ]
  },
  {
   "cell_type": "code",
   "execution_count": 15,
   "metadata": {},
   "outputs": [
    {
     "data": {
      "text/html": [
       "<code>60</code>"
      ],
      "text/plain": [
       "60"
      ]
     },
     "execution_count": 15,
     "metadata": {},
     "output_type": "execute_result"
    }
   ],
   "source": [
    ";; Problem 1\n",
    "\n",
    "(define position\n",
    "  (lambda (a v u t)\n",
    "    (+ u \n",
    "       (* v t) \n",
    "       (* 0.5 a (square t)))))\n",
    "\n",
    ";; you need to complete this procedure, then show some test cases\n",
    "\n",
    "; (position 0 0 0 0)\n",
    "; (position 0 0 20 0)\n",
    "; (position 0 5 10 10)\n",
    "; (position 2 2 2 2)\n",
    "; (position 5 5 5 5)"
   ]
  },
  {
   "cell_type": "code",
   "execution_count": null,
   "metadata": {},
   "outputs": [],
   "source": []
  }
 ],
 "metadata": {
  "kernelspec": {
   "display_name": "Racket",
   "language": "racket",
   "name": "racket"
  },
  "language_info": {
   "codemirror_mode": "scheme",
   "file_extension": ".rkt",
   "mimetype": "text/x-racket",
   "name": "Racket",
   "pygments_lexer": "racket",
   "version": "8.3"
  },
  "orig_nbformat": 4
 },
 "nbformat": 4,
 "nbformat_minor": 2
}
