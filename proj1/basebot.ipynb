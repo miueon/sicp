{
 "cells": [
  {
   "cell_type": "code",
   "execution_count": 8,
   "metadata": {},
   "outputs": [],
   "source": [
    "#lang iracket/lang #:require sicp\n",
    "\n",
    "(define pi 3.14)"
   ]
  },
  {
   "cell_type": "code",
   "execution_count": 97,
   "metadata": {},
   "outputs": [
    {
     "name": "stdout",
     "output_type": "stream",
     "text": [
      "1\n"
     ]
    }
   ],
   "source": [
    "; lib\n",
    "(define (close? u v) (< (abs (- u v)) 0.001))\n",
    "(define (fixed-point f i-guess)\n",
    "    (define (try g)\n",
    "        (if (close? (f g) g)\n",
    "            (f g)\n",
    "            (try (f g))))\n",
    "    (try i-guess))\n",
    "\n",
    "(define (average a b)\n",
    "    (/ (+ a b) 2.0))\n",
    "\n",
    "(define (average-damp f)\n",
    "    (lambda (x)\n",
    "        (average x (f x))))\n",
    "(define (sqrt x)\n",
    "    (fixed-point\n",
    "        (average-damp\n",
    "            (lambda (y) (/ x y)))\n",
    "        1))\n",
    "\n",
    "(define (square x) (* x x))\n",
    "\n",
    "(square (sqrt 4))\n",
    "(define (println a) (display a) (display \"\\n\"))"
   ]
  },
  {
   "cell_type": "code",
   "execution_count": 23,
   "metadata": {},
   "outputs": [],
   "source": [
    ";;; Project 1, 6.001, Spring 2005\n",
    "\n",
    ";;; idea is to simulate a baseball robot\n",
    "\n",
    ";; imagine hitting a ball with an initial velocity of v \n",
    ";; at an angle alpha from the horizontal, at a height h\n",
    ";; we would like to know how far the ball travels.\n",
    "\n",
    ";; as a first step, we can just model this with simple physics\n",
    ";; so the equations of motion for the ball have a vertical and a \n",
    ";; horizontal component\n",
    "\n",
    ";; the vertical component is governed by\n",
    ";; y(t) = v sin alpha t + h - 1/2 g t^2 \n",
    ";; where g is the gravitational constant of 9.8 m/s^2\n",
    "\n",
    ";; the horizontal component is governed by\n",
    ";; x(t) = v cos alpha t\n",
    ";; assuming it starts at the origin\n",
    "\n",
    ";; First, we want to know when the ball hits the ground\n",
    ";; this is governed by the quadratic equation, so we just need to know when \n",
    ";; y(t)=0 (i.e. for what t_impact is y(t_impact)= 0).\n",
    ";; note that there are two solutions, only one makes sense physically\n",
    "\n",
    "(define square\n",
    "  (lambda (x) (* x x)))\n",
    "\n",
    ";; these are constants that will be useful to us\n",
    "(define gravity 9.8)  ;; in m/s\n",
    "(define pi 3.14159)"
   ]
  },
  {
   "cell_type": "code",
   "execution_count": 15,
   "metadata": {},
   "outputs": [
    {
     "data": {
      "text/html": [
       "<code>60</code>"
      ],
      "text/plain": [
       "60"
      ]
     },
     "execution_count": 15,
     "metadata": {},
     "output_type": "execute_result"
    }
   ],
   "source": [
    ";; Problem 1\n",
    "; this function compute the position with a:accer v: initial velocity u: initial position t: elpased time\n",
    "; result = 1/2 * a * t ^2 + v * t + u\n",
    "(define position\n",
    "  (lambda (a v u t)\n",
    "    (+ u \n",
    "       (* v t) \n",
    "       (* 0.5 a (square t)))))\n",
    "\n",
    ";; you need to complete this procedure, then show some test cases\n",
    "\n",
    "; (position 0 0 0 0)\n",
    "; (position 0 0 20 0)\n",
    "; (position 0 5 10 10)\n",
    "; (position 2 2 2 2)\n",
    "; (position 5 5 5 5)"
   ]
  },
  {
   "cell_type": "code",
   "execution_count": 73,
   "metadata": {},
   "outputs": [
    {
     "name": "stdout",
     "output_type": "stream",
     "text": [
      "0.0"
     ]
    }
   ],
   "source": [
    ";; Problem 2\n",
    "(define (inner a b c) (- (square b) (* 4 a c)))\n",
    "(define root1\n",
    "    (lambda (a b c)\n",
    "    (let ((inner-val (inner a b c)))\n",
    "        (if (< inner-val 0)\n",
    "            #f\n",
    "            (/ (+ (- b) (sqrt inner-val))\n",
    "                (* 2 a)))\n",
    "    )))\n",
    "\n",
    "(define root2\n",
    "    (lambda (a b c)\n",
    "    (let ((inner-val (inner a b c)))\n",
    "        (if (< inner-val 0)\n",
    "            #f\n",
    "            (/ (- (- b) (sqrt inner-val))\n",
    "                (* 2 a)))\n",
    "    )))\n",
    "\n",
    ";; complete these procedures and show some test case\n",
    "(define (test-root a b c)\n",
    "    ; (display (inner a b c))\n",
    "    ; (display \" | \")\n",
    "    (display (root1 a b c))\n",
    "    (display \" | \")\n",
    "    (display (root2 a b c)))\n",
    "\n",
    "; (test-root 5 3 6)\n",
    "(define ax (* (- 0.5) gravity))\n",
    "(display (inner ax gravity (- 4.9)))"
   ]
  },
  {
   "cell_type": "code",
   "execution_count": 74,
   "metadata": {},
   "outputs": [
    {
     "data": {
      "text/html": [
       "<code>1.0000996492346939</code>"
      ],
      "text/plain": [
       "1.0000996492346939"
      ]
     },
     "execution_count": 74,
     "metadata": {},
     "output_type": "execute_result"
    }
   ],
   "source": [
    ";; Problem 3\n",
    ";; I choose root2 is because the inneer value of b^2 - 4ac is always greater than -b thus the result of root2 > 0\n",
    "(define time-to-impact\n",
    "    (lambda (vertical-velocity elevation)\n",
    "    (root2 ax vertical-velocity elevation)\n",
    "    ))\n",
    "\n",
    ";; Note that if we want to know when the ball drops to a particular height r \n",
    ";; (for receiver), we have\n",
    "\n",
    "(define time-to-height\n",
    "    (lambda (vertical-velocity elevation target-elevation)\n",
    "        (time-to-impact vertical-velocity (- elevation target-elevation))\n",
    "    ))\n",
    "(time-to-height gravity 0 4.9)\n",
    "; (test-root ax 9.18 (- 4.59))"
   ]
  },
  {
   "cell_type": "code",
   "execution_count": 90,
   "metadata": {},
   "outputs": [
    {
     "name": "stdout",
     "output_type": "stream",
     "text": [
      "9.799999999991376"
     ]
    }
   ],
   "source": [
    ";; Problem 4\n",
    "\n",
    ";; once we can solve for t_impact, we can use it to figure out how far the ball went\n",
    "\n",
    ";; conversion procedure\n",
    "(define degree2radian\n",
    "    (lambda (deg)\n",
    "    (/ (*  deg pi) 180.)))\n",
    "\n",
    "(define travel-distance-simple\n",
    "    (lambda (elevation velocity angle)\n",
    "    (let ((vertical-velocity (* (sin (degree2radian angle)) velocity))\n",
    "            (horizontal-velocity (* (cos (degree2radian angle)) velocity))\n",
    "            )\n",
    "        (define elapsed (time-to-impact vertical-velocity elevation))\n",
    "        (* elapsed horizontal-velocity)\n",
    "        )\n",
    "    ))\n",
    "\n",
    "(display (travel-distance-simple 0 gravity 45))\n",
    "\n",
    ";; let's try this out for some example values.  Note that we are going to \n",
    ";; do everything in metric units, but for quaint reasons it is easier to think\n",
    ";; about things in English units, so we will need some conversions.\n",
    "\n",
    "(define meters-to-feet\n",
    "    (lambda (m)\n",
    "    (/ (* m 39.6) 12)))\n",
    "\n",
    "(define feet-to-meters\n",
    "    (lambda (f)\n",
    "    (/ (* f 12) 39.6)))\n",
    "\n",
    "(define hours-to-seconds\n",
    "    (lambda (h)\n",
    "    (* h 3600)))\n",
    "\n",
    "(define seconds-to-hours\n",
    "    (lambda (s)\n",
    "    (/ s 3600)))\n",
    "\n",
    ";; what is time to impact for a ball hit at a height of 1 meter\n",
    ";; with a velocity of 45 m/s (which is about 100 miles/hour)\n",
    ";; at an angle of 0 (straight horizontal)\n",
    ";; at an angle of (/ pi 2) radians or 90 degrees (straight vertical)\n",
    ";; at an angle of (/ pi 4) radians or 45 degrees\n",
    "\n",
    ";; what is the distance traveled in each case?\n",
    ";; record both in meters and in fee"
   ]
  },
  {
   "cell_type": "code",
   "execution_count": 108,
   "metadata": {},
   "outputs": [
    {
     "name": "stdout",
     "output_type": "stream",
     "text": [
      "44.999999999999616\n",
      "9.799999999991376\n",
      "8.487044622913961\n",
      "8.487044622946769\n",
      "8.515972227847813\n"
     ]
    }
   ],
   "source": [
    "\n",
    ";; Problem 5\n",
    "\n",
    ";; these sound pretty impressive, but we need to look at it more carefully\n",
    "\n",
    ";; first, though, suppose we want to find the angle that gives the best\n",
    ";; distance\n",
    ";; assume that angle is between 0 and (/ pi 2) radians or between 0 and 90\n",
    ";; degrees\n",
    "\n",
    "(define alpha-increment 0.01)\n",
    "\n",
    "(define find-best-angle\n",
    "    (lambda (velocity elevation)\n",
    "    (define (try angle max-dist max-angle)\n",
    "        (let ((dist (travel-distance-simple elevation velocity angle)))\n",
    "            (if (< dist max-dist)\n",
    "                max-angle\n",
    "                (try (+ alpha-increment angle) dist angle)))\n",
    "        )\n",
    "    (try 0 0 0)\n",
    "        )\n",
    "    )\n",
    "(define elevation 0)\n",
    "(define velocity gravity)\n",
    "(println (find-best-angle velocity elevation))\n",
    "(define angle-dist (lambda (angle) \n",
    "    (travel-distance-simple elevation velocity angle)\n",
    "))\n",
    "(println (angle-dist 45))\n",
    "(println (angle-dist 30))\n",
    "(println (angle-dist 30.0000000001918))\n",
    "(println (angle-dist 30.170000000001916))\n",
    ";; find best angle\n",
    ";; try for other velocities\n",
    ";; try for other heights"
   ]
  },
  {
   "cell_type": "code",
   "execution_count": null,
   "metadata": {},
   "outputs": [],
   "source": [
    ";; Problem 6\n",
    "\n",
    ";; problem is that we are not accounting for drag on the ball (or on spin \n",
    ";; or other effects, but let's just stick with drag)\n",
    ";;\n",
    ";; Newton's equations basically say that ma = F, and here F is really two \n",
    ";; forces.  One is the effect of gravity, which is captured by mg.  The\n",
    ";; second is due to drag, so we really have\n",
    ";;\n",
    ";; a = drag/m + gravity\n",
    ";;\n",
    ";; drag is captured by 1/2 C rho A vel^2, where\n",
    ";; C is the drag coefficient (which is about 0.5 for baseball sized spheres)\n",
    ";; rho is the density of air (which is about 1.25 kg/m^3 at sea level \n",
    ";; with moderate humidity, but is about 1.06 in Denver)\n",
    ";; A is the surface area of the cross section of object, which is pi D^2/4 \n",
    ";; where D is the diameter of the ball (which is about 0.074m for a baseball)\n",
    ";; thus drag varies by the square of the velocity, with a scaling factor \n",
    ";; that can be computed\n",
    "\n",
    ";; We would like to again compute distance , but taking into account \n",
    ";; drag.\n",
    ";; Basically we can rework the equations to get four coupled linear \n",
    ";; differential equations\n",
    ";; let u be the x component of velocity, and v be the y component of velocity\n",
    ";; let x and y denote the two components of position (we are ignoring the \n",
    ";; third dimension and are assuming no spin so that a ball travels in a plane)\n",
    ";; the equations are\n",
    ";;\n",
    ";; dx/dt = u\n",
    ";; dy/dt = v\n",
    ";; du/dt = -(drag_x/m + g_x)\n",
    ";; dv/dt = -(drag_y/m + g_y)\n",
    ";; we have g_x = - and g_y = - gravity\n",
    ";; to get the components of the drag force, we need some trig.\n",
    ";; let speeed = (u^2+v^2)^(1/2), then\n",
    ";; drag_x = - drag * u /speed\n",
    ";; drag_y = - drag * v /speed\n",
    ";; where drag = beta speed^2\n",
    ";; and beta = 1/2 C rho pi D^2/4\n",
    ";; note that we are taking direction into account here\n",
    "\n",
    ";; we need the mass of a baseball -- which is about .15 kg.\n",
    "\n",
    ";; so now we just need to write a procedure that performs a simple integration\n",
    ";; of these equations -- there are more sophisticated methods but a simple one \n",
    ";; is just to step along by some step size in t and add up the values\n",
    "\n",
    ";; dx = u dt\n",
    ";; dy = v dt\n",
    ";; du = - 1/m speed beta u dt\n",
    ";; dv = - (1/m speed beta v + g) dt\n",
    "\n",
    ";; initial conditions\n",
    ";; u_0 = V cos alpha\n",
    ";; v_0 = V sin alpha\n",
    ";; y_0 = h\n",
    ";; x_0 = 0\n",
    "\n",
    ";; we want to start with these initial conditions, then take a step of size dt\n",
    ";; (which could be say 0.1) and compute new values for each of these parameters\n",
    ";; when y reaches the desired point (<= 0) we stop, and return the distance (x)\n",
    "\n",
    "(define drag-coeff 0.5)\n",
    "(define density 1.25)  ; kg/m^3\n",
    "(define mass .145)  ; kg\n",
    "(define diameter 0.074)  ; m\n",
    "(define beta (* .5 drag-coeff density (* 3.14159 .25 (square diameter))))\n",
    "\n",
    "(define integrate\n",
    "    (lambda (x0 y0 u0 v0 dt g m beta)\n",
    "    YOUR-CODE-HERE))\n",
    "\n",
    "(define travel-distance\n",
    "    YOUR-CODE-HERE)\n",
    "\n",
    "\n",
    ";; RUN SOME TEST CASES\n",
    "\n",
    ";; what about Denver"
   ]
  }
 ],
 "metadata": {
  "kernelspec": {
   "display_name": "Racket",
   "language": "racket",
   "name": "racket"
  },
  "language_info": {
   "codemirror_mode": "scheme",
   "file_extension": ".rkt",
   "mimetype": "text/x-racket",
   "name": "racket",
   "pygments_lexer": "racket",
   "version": "8.3"
  },
  "orig_nbformat": 4
 },
 "nbformat": 4,
 "nbformat_minor": 2
}
