{
 "cells": [
  {
   "cell_type": "code",
   "execution_count": 2,
   "metadata": {},
   "outputs": [],
   "source": [
    "#lang iracket/lang #:require sicp"
   ]
  },
  {
   "cell_type": "code",
   "execution_count": 26,
   "metadata": {},
   "outputs": [
    {
     "data": {
      "text/html": [
       "<code>(mcons 2 (mcons 4 '()))</code>"
      ],
      "text/plain": [
       "(mcons 2 (mcons 4 '()))"
      ]
     },
     "execution_count": 26,
     "metadata": {},
     "output_type": "execute_result"
    }
   ],
   "source": [
    "(define (filter p lst) \n",
    "    (cond ((null? lst) nil)\n",
    "            ((p (car lst)) \n",
    "                (cons (car lst)\n",
    "                    (filter p (cdr lst))))\n",
    "            (else (filter p (cdr lst))))\n",
    ")\n",
    "(filter even? (list 1 2 3 4 5))"
   ]
  },
  {
   "cell_type": "code",
   "execution_count": 3,
   "metadata": {},
   "outputs": [
    {
     "data": {
      "text/html": [
       "<code>4</code>"
      ],
      "text/plain": [
       "4"
      ]
     },
     "execution_count": 3,
     "metadata": {},
     "output_type": "execute_result"
    }
   ],
   "source": [
    "(define (last-pair lst) \n",
    "    (if (null? (cdr lst))\n",
    "        (car lst)\n",
    "        (last-pair (cdr lst))))\n",
    "\n",
    "(last-pair (list 1 2 3 4))"
   ]
  },
  {
   "cell_type": "code",
   "execution_count": 11,
   "metadata": {},
   "outputs": [
    {
     "data": {
      "text/html": [
       "<code>(mcons 4 (mcons 3 (mcons 2 (mcons 1 '()))))</code>"
      ],
      "text/plain": [
       "(mcons 4 (mcons 3 (mcons 2 (mcons 1 '()))))"
      ]
     },
     "execution_count": 11,
     "metadata": {},
     "output_type": "execute_result"
    }
   ],
   "source": [
    "(define (reverse lst)\n",
    "    (if (null? lst)\n",
    "        nil\n",
    "        (append (reverse (cdr lst)) (list (car lst)))))\n",
    "(reverse (list 1 2 3 4))\n"
   ]
  },
  {
   "cell_type": "code",
   "execution_count": 34,
   "metadata": {},
   "outputs": [
    {
     "name": "stdout",
     "output_type": "stream",
     "text": [
      "(2 4 6)"
     ]
    }
   ],
   "source": [
    "(define (same-parity a . z)\n",
    "    (define parity (cond ((even? a) even?) (else (lambda (x) (not (even? x))))))\n",
    "    (cons a (filter parity z))\n",
    "    )\n",
    "\n",
    "(display (same-parity  2 3 4 5 6 7))"
   ]
  },
  {
   "cell_type": "code",
   "execution_count": 16,
   "metadata": {},
   "outputs": [
    {
     "name": "stdout",
     "output_type": "stream",
     "text": [
      "1"
     ]
    }
   ],
   "source": []
  }
 ],
 "metadata": {
  "kernelspec": {
   "display_name": "Racket",
   "language": "racket",
   "name": "racket"
  },
  "language_info": {
   "codemirror_mode": "scheme",
   "file_extension": ".rkt",
   "mimetype": "text/x-racket",
   "name": "Racket",
   "pygments_lexer": "racket",
   "version": "8.3"
  },
  "orig_nbformat": 4
 },
 "nbformat": 4,
 "nbformat_minor": 2
}
