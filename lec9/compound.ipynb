{
 "cells": [
  {
   "cell_type": "code",
   "execution_count": 1,
   "metadata": {},
   "outputs": [],
   "source": [
    "#lang iracket/lang #:require sicp\n"
   ]
  },
  {
   "cell_type": "code",
   "execution_count": 14,
   "metadata": {},
   "outputs": [
    {
     "data": {
      "text/html": [
       "<code>#t</code>"
      ],
      "text/plain": [
       "#t"
      ]
     },
     "execution_count": 14,
     "metadata": {},
     "output_type": "execute_result"
    }
   ],
   "source": [
    "(define a '(+ 1 1))\n",
    "(define b '(+ 1 1))\n",
    "(equal? a b)\n"
   ]
  },
  {
   "cell_type": "code",
   "execution_count": 16,
   "metadata": {},
   "outputs": [
    {
     "name": "stdout",
     "output_type": "stream",
     "text": [
      "((1) 1)"
     ]
    }
   ],
   "source": [
    "(display (quote ((1) 1)))\n"
   ]
  },
  {
   "cell_type": "code",
   "execution_count": 18,
   "metadata": {},
   "outputs": [
    {
     "data": {
      "text/html": [
       "<code>3</code>"
      ],
      "text/plain": [
       "3"
      ]
     },
     "execution_count": 18,
     "metadata": {},
     "output_type": "execute_result"
    }
   ],
   "source": [
    ";; symbolic deriviation\n",
    "(define (deriv expr var)\n",
    "    (if (simple-expr? expr)\n",
    "        (if (number? expr)\n",
    "            0\n",
    "            (if (eq? expr var) 1 0))\n",
    "        (if (eq? (car expr) '+)\n",
    "                (list '+ (deriv (cadr expr) var)\n",
    "                    (deriv (caddr expr) var))\n",
    "            (list '+ ())))\n",
    ")\n"
   ]
  },
  {
   "cell_type": "code",
   "execution_count": null,
   "metadata": {},
   "outputs": [],
   "source": [
    "(define exp1 (make-sum (make-sum 3 15) 20))\n",
    ";; exp1 ==> ((+ 3 15) 20)\n",
    "(eval-1 exp1) ;; reduce the exp1 to a simpler form -> 38"
   ]
  },
  {
   "cell_type": "code",
   "execution_count": 3,
   "metadata": {},
   "outputs": [],
   "source": [
    ";; data-directed programming <-> type directed?\n",
    "(define (make-sum addend augend) \n",
    "    (list '+ addend augend)) ;; tagged with '+ \n",
    "\n",
    ";; type detector \n",
    "(define (sum-exp? e)\n",
    "    (and (pair? e) (eq? (car e) '+))) ;; may be the tag should be lifted to one place for better management.\n",
    ";; a defensive programming -> first check out that the passedin argument should be a pair. \n",
    ";; for other languages, this should be paritally done be type check.\n",
    "\n",
    "; type: SumExp -> Exp\n",
    "; selector\n",
    "(define (sum-addend sum) (cadr sum))\n",
    "(define (sum-augend sum) (caddr sum))\n",
    "\n",
    "\n"
   ]
  },
  {
   "cell_type": "code",
   "execution_count": 4,
   "metadata": {},
   "outputs": [],
   "source": [
    "(define (eval-1 exp)\n",
    "    (cond \n",
    "        ((number? exp) exp)\n",
    "        ((sum-exp? exp) \n",
    "            (+ (eval-1 (sum-addend exp))\n",
    "                (eval-1 (sum-augend exp))))\n",
    "        (else\n",
    "            (error \"unknown expression \" + exp))))\n",
    "\n"
   ]
  },
  {
   "cell_type": "code",
   "execution_count": 12,
   "metadata": {},
   "outputs": [
    {
     "name": "stdout",
     "output_type": "stream",
     "text": [
      "128"
     ]
    },
    {
     "name": "stderr",
     "output_type": "stream",
     "text": [
      "unknown expression  #<procedure:+> (mcons '/ (mcons 1 (mcons 2 '())))\n",
      "  context...:\n",
      "   body of top-level\n"
     ]
    }
   ],
   "source": [
    "(display (eval-1 (make-sum 25 (make-sum 100 3))))\n",
    "(display (eval-1 (list '/ 1 2)))\n"
   ]
  },
  {
   "cell_type": "code",
   "execution_count": 13,
   "metadata": {},
   "outputs": [],
   "source": [
    "(define sum-tag '+)\n",
    "\n",
    "(define (make-sum addend augend) \n",
    "    (list sum-tag addend augend))\n",
    "\n",
    "(define (sum-exp? e)\n",
    "    (and (pair? e) (eq? (car e) sum-tag)))\n",
    "\n"
   ]
  },
  {
   "cell_type": "code",
   "execution_count": 15,
   "metadata": {},
   "outputs": [],
   "source": [
    "(define constant-tag 'const)\n",
    "\n",
    "(define (make-constant val)\n",
    "    (list constant-tag val))\n",
    "\n",
    "(define (constant-exp? e)\n",
    "    (and (pair? e) (eq? (car e) constant-tag)))\n",
    "\n",
    "(define (constant-val const) (cadr const))"
   ]
  },
  {
   "cell_type": "code",
   "execution_count": null,
   "metadata": {},
   "outputs": [],
   "source": []
  }
 ],
 "metadata": {
  "kernelspec": {
   "display_name": "Racket",
   "language": "racket",
   "name": "racket"
  },
  "language_info": {
   "codemirror_mode": "scheme",
   "file_extension": ".rkt",
   "mimetype": "text/x-racket",
   "name": "Racket",
   "pygments_lexer": "racket",
   "version": "8.4"
  },
  "orig_nbformat": 4
 },
 "nbformat": 4,
 "nbformat_minor": 2
}
