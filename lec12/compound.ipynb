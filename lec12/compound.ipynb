{
 "cells": [
  {
   "cell_type": "code",
   "execution_count": 1,
   "metadata": {},
   "outputs": [],
   "source": [
    "#lang iracket/lang #:require sicp\n"
   ]
  },
  {
   "cell_type": "code",
   "execution_count": 4,
   "metadata": {},
   "outputs": [
    {
     "data": {
      "text/html": [
       "<code>#t</code>"
      ],
      "text/plain": [
       "#t"
      ]
     },
     "execution_count": 4,
     "metadata": {},
     "output_type": "execute_result"
    }
   ],
   "source": [
    "(define (make-stack) nil)\n",
    "(define (empty-stack? stack) (null? stack))\n",
    "(define (insert stack elt) (cons elt stack))\n",
    "(define (delete stack)\n",
    "    (if (empty-stack? stack)\n",
    "        (error \"stack underflow -delete\")\n",
    "        (cdr stack)))\n",
    "\n",
    "(define (top stack)\n",
    "    (if (empty-stack? stack)\n",
    "        (error \"stack underflow -top\")\n",
    "        (car stack)))\n",
    "\n",
    "; problems, dangling ptr. has the potential of leading to stack-overflow\n",
    "\n"
   ]
  },
  {
   "cell_type": "code",
   "execution_count": 5,
   "metadata": {},
   "outputs": [],
   "source": [
    "(define (make-stack) (cons 'stack nil))\n",
    "\n",
    "(define (stack? stack) \n",
    "    (and (pair? stack) (eq? 'stack (car stack))))\n",
    "\n",
    "(define (empty-stack? stack)\n",
    "    (if (not (stack? stack))\n",
    "        (error \"object not a stack:\" stack)\n",
    "        (null? (cdr stack))))\n",
    "\n"
   ]
  },
  {
   "cell_type": "code",
   "execution_count": 6,
   "metadata": {},
   "outputs": [],
   "source": [
    "(define (insert! stack elt)\n",
    "    (cond ((not (stack? stack)) (error \"object not a stack:\" stack))\n",
    "        (else (set-cdr! stack (cons elt (cdr stack))) ; 1. mutate the stack \n",
    "        stack))) ; 2. return the stack\n",
    "\n",
    "(define (delete! stack)\n",
    "    (cond (empty-stack? stack) \n",
    "        (error \"stack underflow -delete\")\n",
    "        (else (set-cdr! stack (cddr stack)) stack)))\n",
    "\n",
    "(define (top stack)\n",
    "    (if (empty-stack? stack)\n",
    "        (error \"stack underflow -top\")\n",
    "        (cadr stack)))\n"
   ]
  },
  {
   "cell_type": "code",
   "execution_count": 7,
   "metadata": {},
   "outputs": [
    {
     "data": {
      "text/html": [
       "<code>(mcons 'stack (mcons 1 '()))</code>"
      ],
      "text/plain": [
       "(mcons 'stack (mcons 1 '()))"
      ]
     },
     "execution_count": 7,
     "metadata": {},
     "output_type": "execute_result"
    }
   ],
   "source": [
    "(define a (make-stack))\n",
    "\n",
    "(insert! a 1)"
   ]
  },
  {
   "cell_type": "code",
   "execution_count": null,
   "metadata": {},
   "outputs": [],
   "source": [
    "(define (make-queue) (list 'queue ))"
   ]
  }
 ],
 "metadata": {
  "kernelspec": {
   "display_name": "Racket",
   "language": "racket",
   "name": "racket"
  },
  "language_info": {
   "codemirror_mode": "scheme",
   "file_extension": ".rkt",
   "mimetype": "text/x-racket",
   "name": "racket",
   "pygments_lexer": "racket",
   "version": "8.4"
  },
  "orig_nbformat": 4
 },
 "nbformat": 4,
 "nbformat_minor": 2
}
