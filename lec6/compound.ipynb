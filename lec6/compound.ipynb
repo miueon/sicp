{
 "cells": [
  {
   "cell_type": "code",
   "execution_count": 2,
   "metadata": {},
   "outputs": [],
   "source": [
    "#lang iracket/lang #:require sicp"
   ]
  },
  {
   "cell_type": "code",
   "execution_count": 5,
   "metadata": {},
   "outputs": [
    {
     "name": "stdout",
     "output_type": "stream",
     "text": [
      "44.000999999999699"
     ]
    }
   ],
   "source": [
    "(define epsilon 0.001)\n",
    "(define (deriv f)\n",
    "    (lambda (x) (/ (- (f (+ epsilon x)) (f x))\n",
    "        epsilon)))\n",
    "\n",
    "(define (f x) (* x x))\n",
    "\n",
    "(display (f 2))\n",
    "(define df (deriv f))\n",
    "\n",
    "(display (df 2))"
   ]
  },
  {
   "cell_type": "code",
   "execution_count": 9,
   "metadata": {},
   "outputs": [
    {
     "data": {
      "text/html": [
       "<code>'(1 4 9)</code>"
      ],
      "text/plain": [
       "'(1 4 9)"
      ]
     },
     "execution_count": 9,
     "metadata": {},
     "output_type": "execute_result"
    }
   ],
   "source": [
    "(define adjoin cons)\n",
    "(define first car)\n",
    "(define rest cdr)\n",
    "\n",
    "(define (MAP proc lst)\n",
    "    (if (null? lst)\n",
    "        nil\n",
    "        (adjoin (proc (first lst))\n",
    "            (map proc (rest lst)))))\n",
    "(define (square x) (* x x))\n",
    "(MAP square (list 1 2 3))"
   ]
  },
  {
   "cell_type": "code",
   "execution_count": 15,
   "metadata": {},
   "outputs": [
    {
     "data": {
      "text/html": [
       "<code>6</code>"
      ],
      "text/plain": [
       "6"
      ]
     },
     "execution_count": 15,
     "metadata": {},
     "output_type": "execute_result"
    }
   ],
   "source": [
    "(define (fold-right op init lst)\n",
    "    (if (null? lst)\n",
    "        init\n",
    "        (op (first lst) init\n",
    "            (fold-right op init (rest lst)))))\n",
    "\n",
    "(fold-right + 0 (list 1 2 3))"
   ]
  },
  {
   "cell_type": "code",
   "execution_count": 16,
   "metadata": {},
   "outputs": [],
   "source": [
    "(define (generate-interval a b)\n",
    "    (if (> a b)\n",
    "        nil\n",
    "        (cons a (generate-interval (+ 1 a) b))))\n",
    "\n",
    "(define (sum f start inc terms) ; f(a + idx) i: start -> terms * dx dx: inc\n",
    "    (fold-right + 0\n",
    "        (map (lambda (x) (f (+ start (* x inc))))\n",
    "            (generate-interval 0 terms))))"
   ]
  },
  {
   "cell_type": "code",
   "execution_count": 17,
   "metadata": {},
   "outputs": [],
   "source": [
    "(define (integral f a b n)\n",
    "    (let ((delta (/ (- b a) n)))\n",
    "        (* (sum f a delta n) delta)))\n"
   ]
  },
  {
   "cell_type": "code",
   "execution_count": 5,
   "metadata": {},
   "outputs": [
    {
     "name": "stderr",
     "output_type": "stream",
     "text": [
      "user break\n",
      "  context...:\n",
      "   body of top-level\n",
      "   eval:3:0: fixed-point\n"
     ]
    }
   ],
   "source": [
    "; using fixed point to compute square root\n",
    "(define (close? u v) (< (abs (- u v)) 0.001))\n",
    "(define (fixed-point f i-guess)\n",
    "    (define (try g)\n",
    "        (if (close? (f g) g)\n",
    "            (f g)\n",
    "            (try (f g))))\n",
    "    (try i-guess))\n",
    "\n",
    "(fixed-point (lambda (y) (/ 2 y)) 2)"
   ]
  },
  {
   "cell_type": "code",
   "execution_count": 11,
   "metadata": {},
   "outputs": [
    {
     "data": {
      "text/html": [
       "<code>9088682021235555821134234528871505520740481/2429052444342535220332102954965929088192960</code>"
      ],
      "text/plain": [
       "9088682021235555821134234528871505520740481/2429052444342535220332102954965929088192960"
      ]
     },
     "execution_count": 11,
     "metadata": {},
     "output_type": "execute_result"
    }
   ],
   "source": [
    "(define (average a b)\n",
    "    (/ (+ a b) 2))\n",
    "\n",
    "(define (average-damp f)\n",
    "    (lambda (x)\n",
    "        (average x (f x))))\n",
    "(define (sqrt x)\n",
    "    (fixed-point\n",
    "        (average-damp\n",
    "            (lambda (y) (/ x y)))\n",
    "        1))\n",
    "\n",
    "(sqrt 14)"
   ]
  },
  {
   "cell_type": "code",
   "execution_count": 9,
   "metadata": {},
   "outputs": [
    {
     "data": {
      "text/html": [
       "<code>\"hi\"</code>"
      ],
      "text/plain": [
       "\"hi\""
      ]
     },
     "execution_count": 9,
     "metadata": {},
     "output_type": "execute_result"
    }
   ],
   "source": [
    "; compose procedure\n",
    "(define (compose f g x) (f (g x)))\n",
    "\n",
    "(compose\n",
    "    (lambda (p) (if p \"hi\" \"bye\")\n",
    "    (lambda (x) (> x 0)))\n",
    "    \n",
    "    "
   ]
  }
 ],
 "metadata": {
  "kernelspec": {
   "display_name": "Racket",
   "language": "racket",
   "name": "racket"
  },
  "language_info": {
   "codemirror_mode": "scheme",
   "file_extension": ".rkt",
   "mimetype": "text/x-racket",
   "name": "Racket",
   "pygments_lexer": "racket",
   "version": "8.3"
  },
  "orig_nbformat": 4
 },
 "nbformat": 4,
 "nbformat_minor": 2
}
