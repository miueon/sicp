{
 "cells": [
  {
   "cell_type": "code",
   "execution_count": 2,
   "metadata": {},
   "outputs": [],
   "source": [
    "#lang iracket/lang #:require sicp\n"
   ]
  },
  {
   "cell_type": "code",
   "execution_count": 3,
   "metadata": {},
   "outputs": [
    {
     "data": {
      "text/html": [
       "<code>20</code>"
      ],
      "text/plain": [
       "20"
      ]
     },
     "execution_count": 3,
     "metadata": {},
     "output_type": "execute_result"
    }
   ],
   "source": [
    "(define (a x) (* x 2))\n",
    "\n",
    "(a 10)"
   ]
  },
  {
   "cell_type": "code",
   "execution_count": 8,
   "metadata": {},
   "outputs": [
    {
     "data": {
      "text/html": [
       "<code>20</code>"
      ],
      "text/plain": [
       "20"
      ]
     },
     "execution_count": 8,
     "metadata": {},
     "output_type": "execute_result"
    }
   ],
   "source": [
    "(define (find-assoc key alist)\n",
    "    (cond\n",
    "        ((null? alist) #f)\n",
    "        ((equal? (caar alist) key) (cadar alist))\n",
    "        (else (find-assoc key (cdr alist)))))\n",
    "\n",
    "(define a1 '((x 15) (y 20)))\n",
    "\n",
    "(find-assoc 'y a1)\n",
    "\n",
    "\n",
    "(define (add--assoc key val alist)\n",
    "    (cons (list key val) alist))"
   ]
  },
  {
   "cell_type": "code",
   "execution_count": null,
   "metadata": {},
   "outputs": [],
   "source": [
    "(define table1-tag 'table1)\n",
    "\n",
    "(define (make-table1) (cons table1-tag nil))\n",
    "\n",
    "(define (table1-get tb1 key) \n",
    "    (find-assoc key (cdr tb1)))\n",
    "\n",
    "(define (table1-put! tb1 key val)\n",
    "    (set-cdr! tb1 (add-assoc key val (cdr tb1))))\n"
   ]
  },
  {
   "cell_type": "code",
   "execution_count": null,
   "metadata": {},
   "outputs": [],
   "source": []
  }
 ],
 "metadata": {
  "kernelspec": {
   "display_name": "Racket",
   "language": "racket",
   "name": "racket"
  },
  "language_info": {
   "codemirror_mode": "scheme",
   "file_extension": ".rkt",
   "mimetype": "text/x-racket",
   "name": "racket",
   "pygments_lexer": "racket",
   "version": "8.4"
  },
  "orig_nbformat": 4
 },
 "nbformat": 4,
 "nbformat_minor": 2
}
