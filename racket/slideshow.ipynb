{
 "cells": [
  {
   "cell_type": "code",
   "execution_count": 2,
   "metadata": {},
   "outputs": [
    {
     "name": "stderr",
     "output_type": "stream",
     "text": [
      "eval:1:0: read-syntax: `#lang` not enabled\n",
      "  possible reason: not allowed again inside a module that already starts `#lang`, or not enabled for interactive evaluation\n",
      "  context...:\n",
      "   /usr/share/racket/pkgs/sandbox-lib/racket/sandbox.rkt:114:0: default-sandbox-reader\n",
      "   /usr/share/racket/pkgs/sandbox-lib/racket/sandbox.rkt:575:0: input->code\n",
      "   /usr/share/racket/pkgs/sandbox-lib/racket/sandbox.rkt:935:14\n"
     ]
    }
   ],
   "source": [
    "#lang slideshow"
   ]
  }
 ],
 "metadata": {
  "kernelspec": {
   "display_name": "Racket",
   "language": "racket",
   "name": "racket"
  },
  "language_info": {
   "codemirror_mode": "scheme",
   "file_extension": ".rkt",
   "mimetype": "text/x-racket",
   "name": "Racket",
   "pygments_lexer": "racket",
   "version": "8.3"
  },
  "orig_nbformat": 4
 },
 "nbformat": 4,
 "nbformat_minor": 2
}
