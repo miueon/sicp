{
 "cells": [
  {
   "cell_type": "code",
   "execution_count": null,
   "metadata": {},
   "outputs": [],
   "source": [
    "(def car first)\n",
    "(def cdr rest)\n",
    "(defn cadr [x] (car (cdr x)))\n",
    "(defn caddr [x] (car (cdr (cdr x))))\n",
    "(defn cadddr [x] (car (cdr (cdr (cdr x)))))\n",
    "(defn cddr [x] (cdr (cdr x)))\n",
    "(defn cadr [x] (car (cdr x)))\n",
    "\n",
    "(defn mput [m key value] (do (. m put key value) m))\n",
    "(defn todict [m] (into {} m))\n",
    "\n",
    "(import (java.util HashMap))\n"
   ]
  },
  {
   "cell_type": "code",
   "execution_count": null,
   "metadata": {},
   "outputs": [],
   "source": []
  }
 ],
 "metadata": {
  "kernelspec": {
   "display_name": "Clojure (clojupyter=0.3.2=1)",
   "language": "clojure",
   "name": "conda-clojupyter"
  },
  "language_info": {
   "name": "clojure"
  },
  "orig_nbformat": 4
 },
 "nbformat": 4,
 "nbformat_minor": 2
}
