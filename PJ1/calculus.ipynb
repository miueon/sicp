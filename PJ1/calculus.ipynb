{
 "cells": [
  {
   "cell_type": "code",
   "execution_count": 1,
   "metadata": {
    "vscode": {
     "languageId": "racket"
    }
   },
   "outputs": [],
   "source": [
    "#lang iracket/lang #:require sicp"
   ]
  },
  {
   "cell_type": "code",
   "execution_count": 2,
   "metadata": {
    "vscode": {
     "languageId": "racket"
    }
   },
   "outputs": [],
   "source": [
    "(define (prs str)\n",
    "    (display str)\n",
    "    (display \" \"))"
   ]
  },
  {
   "cell_type": "code",
   "execution_count": 3,
   "metadata": {
    "vscode": {
     "languageId": "racket"
    }
   },
   "outputs": [
    {
     "name": "stdout",
     "output_type": "stream",
     "text": [
      "18"
     ]
    },
    {
     "data": {
      "text/html": [
       "<code>#t</code>"
      ],
      "text/plain": [
       "#t"
      ]
     },
     "execution_count": 3,
     "metadata": {},
     "output_type": "execute_result"
    }
   ],
   "source": [
    "\"Part 1: Numerical integration\"\n",
    "\n",
    "\"Problem 1: Integrating any function\"\n",
    "\n",
    "(define (integral func num-steps x1 x2)\n",
    "    (define stride (/ (- x2 x1) num-steps))\n",
    "    (define (rect x1)\n",
    "        (* (func x1) stride))\n",
    "    (define (integral-helper num-steps x previous)\n",
    "        (cond\n",
    "            ((< num-steps 1) (error \"steps should be 1 or more\"))\n",
    "            ((equal? num-steps 1) (+ previous (rect x )))\n",
    "            (else (integral-helper (- num-steps 1) (+ x stride) (+ previous (rect x ))))\n",
    "            )\n",
    "    )\n",
    "    (integral-helper num-steps x1 0)\n",
    ")\n",
    "\n",
    ";; Test cases:\n",
    "\n",
    ";; With only one step, the integral of y = x^2 from 3 to 5\n",
    ";; should be 3^2 * 2 = 18\n",
    "(display (integral (lambda (x) (expt x 2)) 1 3 5))\n",
    "\n",
    ";; With two steps, we should get 3^2 + 4^2 = 25\n",
    "(equal? 25 (integral (lambda (x) (expt x 2)) 2 3 5))"
   ]
  },
  {
   "cell_type": "code",
   "execution_count": 4,
   "metadata": {
    "vscode": {
     "languageId": "racket"
    }
   },
   "outputs": [
    {
     "name": "stdout",
     "output_type": "stream",
     "text": [
      "3.141595984392957 "
     ]
    }
   ],
   "source": [
    "\"Problem 2: Area of a unit circle\"\n",
    "\n",
    "(define (approx-pi num-steps)\n",
    "    (* 4 (integral (lambda (x) (sqrt (- 1 (* x x)))) num-steps 0 1)))\n",
    "; (prs (approx-pi 1))   ;; Should be 4\n",
    "; (prs (approx-pi 2))   ;; Hopefully lower than 4\n",
    "(prs (approx-pi 600000)) ;; Right to the first two decimal places?\n"
   ]
  },
  {
   "cell_type": "code",
   "execution_count": 6,
   "metadata": {
    "vscode": {
     "languageId": "racket"
    }
   },
   "outputs": [
    {
     "name": "stdout",
     "output_type": "stream",
     "text": [
      "3.1415901232921764 "
     ]
    }
   ],
   "source": [
    "\"Problem 3: Integrating with pieces of any shape\"\n",
    "\n",
    "(define (rectangle func x1 x2)\n",
    "    (* (func x1) (- x2 x1)))\n",
    "\n",
    "(define (trapezoid func x1 x2)\n",
    "    (/ (* (+ (func x1) (func x2)) (- x2 x1)) 2.0))\n",
    "\n",
    "(define (integral-with piece func num-steps x1 x2)\n",
    "    (define stride (/ (- x2 x1) num-steps))\n",
    "    (define (integral-helper num-steps x previous)\n",
    "        (cond\n",
    "            ((< num-steps 1) (error \"steps should be 1 or more\"))\n",
    "            ((equal? num-steps 1) (+ previous (piece func x (+ x stride))))\n",
    "            (else (integral-helper (- num-steps 1) (+ x stride) (+ previous (piece func x (+ x stride)))))\n",
    "            )\n",
    "    )\n",
    "    (integral-helper num-steps x1 0)\n",
    ")\n",
    "; (trapezoid (lambda (x) (expt x 2)) 0 1)\n",
    "; (integral-with rectangle (lambda (x) (expt x 2)) 2 3 5)\n",
    "(define (approx-pi2 num-steps)\n",
    "    (* 4 (integral-with trapezoid (lambda (x) (sqrt (- 1 (* x x)))) num-steps 0 1)))\n",
    "(prs (approx-pi2 6000))\n",
    ";; Write your own test cases.  Start with checking that calling\n",
    ";; (integral-with rectangle ...) is the same as calling (integral ...)\n",
    ";; Then check that (integral-with trapezoid ...) produces better answers\n",
    ";; for a given num-steps than the same (integral-with rectangle ...)"
   ]
  },
  {
   "cell_type": "code",
   "execution_count": 7,
   "metadata": {
    "vscode": {
     "languageId": "racket"
    }
   },
   "outputs": [
    {
     "data": {
      "text/html": [
       "<code>0</code>"
      ],
      "text/plain": [
       "0"
      ]
     },
     "execution_count": 7,
     "metadata": {},
     "output_type": "execute_result"
    }
   ],
   "source": [
    "\"Part 2: Symbolic differentiation\"\n",
    "\n",
    "(define (deriv-constant wrt constant)\n",
    "    0)\n",
    "\n",
    "\n",
    "\"Problem 5: Derivative of a variable\"\n",
    "\n",
    "(define (deriv-variable wrt var)\n",
    "    (if (eq? var wrt) 1 0))\n",
    "\n",
    "(deriv-variable 'x 'x)\n",
    "(deriv-variable 'x 'y)\n",
    "\n"
   ]
  },
  {
   "cell_type": "code",
   "execution_count": 8,
   "metadata": {
    "vscode": {
     "languageId": "racket"
    }
   },
   "outputs": [],
   "source": [
    "(define (sum? x)\n",
    "    (and (pair? x) (eq? (car x) '+)))"
   ]
  },
  {
   "cell_type": "code",
   "execution_count": 34,
   "metadata": {
    "vscode": {
     "languageId": "racket"
    }
   },
   "outputs": [],
   "source": [
    "(define (product? x)\n",
    "    (and (pair? x) (eq? (car x) '*)))"
   ]
  },
  {
   "cell_type": "code",
   "execution_count": 52,
   "metadata": {
    "vscode": {
     "languageId": "racket"
    }
   },
   "outputs": [
    {
     "data": {
      "text/html": [
       "<code>3</code>"
      ],
      "text/plain": [
       "3"
      ]
     },
     "execution_count": 52,
     "metadata": {},
     "output_type": "execute_result"
    }
   ],
   "source": [
    "\n",
    "(define (=number? x const)\n",
    "    (and (number? x) (= x const)))\n",
    "\n",
    "(define (make-sum a1 a2)\n",
    "    (cond ((=number? a1 0) a2)\n",
    "        ((=number? a2 0) a1)\n",
    "        ((and (number? a1) (number? a2))\n",
    "            (+ a1 a2))\n",
    "        (else (list '+ a1 a2)))\n",
    ")\n",
    "\n",
    "(define (make-product m1 m2)\n",
    ";     (list '* m1 m2)\n",
    "; )\n",
    "    (cond ((or (=number? m1 0) (=number? m2 0)) 0)\n",
    "            ((=number? m1 1) m2)\n",
    "            ((=number? m2 1) m1)\n",
    "            ((and (number? m1) (number? m2)) \n",
    "                (* m1 m2))\n",
    "            (else (list '* m1 m2))))\n",
    "\n",
    "(make-product '1 3)\n",
    "; (=number? 3 0)"
   ]
  },
  {
   "cell_type": "code",
   "execution_count": 53,
   "metadata": {
    "vscode": {
     "languageId": "racket"
    }
   },
   "outputs": [
    {
     "name": "stdout",
     "output_type": "stream",
     "text": [
      "3"
     ]
    }
   ],
   "source": [
    "\"Problem 6: Calling the right function\"\n",
    "\"Problem 7: Derivative of a sum\"\n",
    "            \n",
    "(define (derivative wrt expr)\n",
    "    (define (deriv-sum wrt expr)\n",
    "        (make-sum (derivative wrt (car expr)) (derivative wrt (cadr expr))))\n",
    "\n",
    "    (define (deriv-product wrt expr)\n",
    "        (make-sum \n",
    "            (make-product (car expr) (derivative wrt (cadr expr)))\n",
    "            (make-product (derivative wrt (car expr)) (cadr expr)))\n",
    "    )\n",
    "    (cond\n",
    "        ; your code here\n",
    "        ((symbol? expr) (deriv-variable wrt expr))\n",
    "        ((number? expr) (deriv-constant wrt expr))\n",
    "        ((sum? expr) (deriv-sum wrt (cdr expr)))\n",
    "        ((product? expr) (deriv-product wrt (cdr expr)))\n",
    "        (else (error \"Don't know how to differentiate\" expr))))\n",
    "; (display (derivative 'x '(+ x 2))) ; -> (+ 1 0)\n",
    "\n",
    "(display (derivative 'x '(* x 3))) ; -> (+ (* x 0) (* 1 3))"
   ]
  }
 ],
 "metadata": {
  "kernelspec": {
   "display_name": "Racket",
   "language": "racket",
   "name": "racket"
  },
  "language_info": {
   "codemirror_mode": "scheme",
   "file_extension": ".rkt",
   "mimetype": "text/x-racket",
   "name": "Racket",
   "pygments_lexer": "racket",
   "version": "8.4"
  },
  "orig_nbformat": 4
 },
 "nbformat": 4,
 "nbformat_minor": 2
}
