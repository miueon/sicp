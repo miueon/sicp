{
 "cells": [
  {
   "cell_type": "code",
   "execution_count": 3,
   "metadata": {},
   "outputs": [
    {
     "name": "stderr",
     "output_type": "stream",
     "text": [
      "eval:2:0: read-syntax: `#lang` not enabled\n",
      "  possible reason: not allowed again inside a module that already starts `#lang`, or not enabled for interactive evaluation\n",
      "  context...:\n",
      "   /usr/share/racket/pkgs/sandbox-lib/racket/sandbox.rkt:114:0: default-sandbox-reader\n",
      "   /usr/share/racket/pkgs/sandbox-lib/racket/sandbox.rkt:576:0: input->code\n",
      "   /usr/share/racket/pkgs/sandbox-lib/racket/sandbox.rkt:936:14\n"
     ]
    }
   ],
   "source": [
    "\n",
    "#lang iracket/lang #:require sicp"
   ]
  },
  {
   "cell_type": "code",
   "execution_count": 1,
   "metadata": {},
   "outputs": [],
   "source": [
    "(define (parallel-execute . thunks)\n",
    "  (define (ensure-end ts)\n",
    "    (cond ((null? ts) 'done)\n",
    "          ((memq (thread-state (car ts)) '(terminated dead))\n",
    "           (begin (thread-join! (car ts)) (ensure-end (cdr ts))))\n",
    "          (else\n",
    "           (ensure-end (append (cdr ts) (list (car ts)))))))\n",
    "\n",
    "    (let ((threads (map make-thread thunks)))\n",
    "      (for-each thread-start! threads)\n",
    "      (ensure-end threads)))"
   ]
  },
  {
   "cell_type": "code",
   "execution_count": 2,
   "metadata": {},
   "outputs": [
    {
     "name": "stderr",
     "output_type": "stream",
     "text": [
      "make-thread: undefined;\n",
      " cannot reference an identifier before its definition\n",
      "  in module: top-level\n",
      "  context...:\n",
      "   body of top-level\n",
      "   eval:1:0: parallel-execute\n"
     ]
    }
   ],
   "source": [
    "(define x 10)\n",
    "(parallel-execute (lambda() (set! x (* x x)))\n",
    "    (lambda() (set ! x (+ x 1))))"
   ]
  },
  {
   "cell_type": "code",
   "execution_count": null,
   "metadata": {},
   "outputs": [],
   "source": []
  },
  {
   "cell_type": "code",
   "execution_count": null,
   "metadata": {},
   "outputs": [],
   "source": []
  }
 ],
 "metadata": {
  "kernelspec": {
   "display_name": "Racket",
   "language": "racket",
   "name": "racket"
  },
  "language_info": {
   "codemirror_mode": "scheme",
   "file_extension": ".rkt",
   "mimetype": "text/x-racket",
   "name": "racket",
   "pygments_lexer": "racket",
   "version": "8.4"
  },
  "orig_nbformat": 4
 },
 "nbformat": 4,
 "nbformat_minor": 2
}
