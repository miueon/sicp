{
 "cells": [
  {
   "cell_type": "code",
   "execution_count": 1,
   "metadata": {},
   "outputs": [
    {
     "data": {
      "text/plain": [
       "nil"
      ]
     },
     "execution_count": 1,
     "metadata": {},
     "output_type": "execute_result"
    }
   ],
   "source": [
    "(ns welcome-to-clojure\n",
    "  (:require [clojure.repl :refer [source apropos dir pst doc find-doc]]\n",
    "            [clojure.string :as string]\n",
    "            [clojure.test :refer [is are]]))"
   ]
  },
  {
   "cell_type": "code",
   "execution_count": 25,
   "metadata": {},
   "outputs": [
    {
     "data": {
      "text/plain": [
       "#'welcome-to-clojure/foo"
      ]
     },
     "execution_count": 25,
     "metadata": {},
     "output_type": "execute_result"
    }
   ],
   "source": [
    "(str \"fuck chinese\")\n",
    "\n",
    "(for [x '(1 2 3) y '(:a :b)] [x y])\n",
    "\n",
    "(def b {:x 1 :y 2})\n",
    "\n",
    "(= (quote (1 2 3)) '(1 2 3))\n",
    "\n",
    "(def foo 3)\n",
    "(var foo)\n",
    "\n"
   ]
  }
 ],
 "metadata": {
  "kernelspec": {
   "display_name": "Clojure (clojupyter=0.3.2=1)",
   "language": "clojure",
   "name": "conda-clojupyter"
  },
  "language_info": {
   "file_extension": ".clj",
   "mimetype": "text/x-clojure",
   "name": "clojure",
   "version": "1.10.1"
  },
  "orig_nbformat": 4
 },
 "nbformat": 4,
 "nbformat_minor": 2
}
