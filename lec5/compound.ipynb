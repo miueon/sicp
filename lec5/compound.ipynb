{
 "cells": [
  {
   "cell_type": "code",
   "execution_count": 1,
   "metadata": {},
   "outputs": [],
   "source": [
    "#lang iracket/lang #:require sicp\n"
   ]
  },
  {
   "cell_type": "code",
   "execution_count": 3,
   "metadata": {},
   "outputs": [
    {
     "data": {
      "text/html": [
       "<code>20</code>"
      ],
      "text/plain": [
       "20"
      ]
     },
     "execution_count": 3,
     "metadata": {},
     "output_type": "execute_result"
    }
   ],
   "source": [
    "(define (a x) (* x 2))\n",
    "\n",
    "(a 10)"
   ]
  },
  {
   "cell_type": "code",
   "execution_count": 10,
   "metadata": {},
   "outputs": [
    {
     "data": {
      "text/html": [
       "<code>1.4142156862745097</code>"
      ],
      "text/plain": [
       "1.4142156862745097"
      ]
     },
     "execution_count": 10,
     "metadata": {},
     "output_type": "execute_result"
    }
   ],
   "source": [
    "(define (square x) (* x x))\n",
    "(define (good-enough? G x) \n",
    "    (< (abs (- (square G) x)) 0.001))\n",
    "(define (sqrt x)\n",
    "    (define (average x y) (/ (+ x y) 2))\n",
    "    (define (improve G x) (average G (/ x G)))\n",
    "    (define (sqrt-helper G x)\n",
    "        (if (good-enough? G x)\n",
    "            G\n",
    "            (sqrt-helper (improve G x) x)))\n",
    "    (sqrt-helper 1.0 x))\n",
    "\n",
    "(sqrt 2)"
   ]
  },
  {
   "cell_type": "code",
   "execution_count": 9,
   "metadata": {},
   "outputs": [],
   "source": [
    "(define (make-point x y)\n",
    "    (cons x y))\n",
    "\n",
    "(define (point-x point) (car point))\n",
    "\n",
    "(define (point-y point) (cdr point))\n",
    "\n",
    "(define (make-seg pt1 pt2) (cons pt1 pt2))\n",
    "\n",
    "(define (start-point seg) (car seg))\n",
    "\n",
    "(define (end-point seg) (cdr seg))\n"
   ]
  },
  {
   "cell_type": "code",
   "execution_count": 8,
   "metadata": {},
   "outputs": [
    {
     "data": {
      "text/html": [
       "<code>(mcons 2 4)</code>"
      ],
      "text/plain": [
       "(mcons 2 4)"
      ]
     },
     "execution_count": 8,
     "metadata": {},
     "output_type": "execute_result"
    }
   ],
   "source": [
    "(define p1 (make-point 1 2))\n",
    "(define p2 (make-point 4 3))\n",
    "(define s1 (make-seg p1 p2))\n",
    "\n",
    "(define stretch-point (lambda (pt scale) \n",
    "    (make-point (* scale (point-x pt))\n",
    "                (* scale (point-y pt)))))\n",
    "\n",
    "(stretch-point p1 2)"
   ]
  },
  {
   "cell_type": "code",
   "execution_count": 13,
   "metadata": {},
   "outputs": [],
   "source": [
    "(define (stretch-seg seg sc)\n",
    "    (make-seg (stretch-point (start-point seg) sc)\n",
    "                (stretch-point (end-point seg) seg)))\n",
    "; rely on the abstraction of point \n",
    "(define (seg-length seg) (sqrt (+ (square (- (point-x (start-point seg))\n",
    "                                            (point-x (end-point seg))))\n",
    "                                    (square          (- (point-y (start-point seg))\n",
    "                                                (point-y (end-point seg)))))))"
   ]
  },
  {
   "cell_type": "code",
   "execution_count": 18,
   "metadata": {},
   "outputs": [
    {
     "data": {
      "text/html": [
       "<code>5</code>"
      ],
      "text/plain": [
       "5"
      ]
     },
     "execution_count": 18,
     "metadata": {},
     "output_type": "execute_result"
    }
   ],
   "source": [
    "(define first car)\n",
    "(define rest cdr)\n",
    "(define adjoin cons)\n",
    "(define (enumerate-interval from to)\n",
    "    (if (> from to)\n",
    "        nil\n",
    "        (adjoin from \n",
    "                (enumerate-interval\n",
    "                    (+ 1 from)\n",
    "                    to))))\n",
    "\n",
    "(define a (enumerate-interval 0 10))\n",
    "\n",
    "(define (list-ref lst n)\n",
    "    (if (= n 0)\n",
    "        (first lst)\n",
    "        (list-ref (rest lst) (- n 1))))\n",
    "\n",
    "(list-ref a 5)\n"
   ]
  },
  {
   "cell_type": "code",
   "execution_count": 23,
   "metadata": {},
   "outputs": [
    {
     "data": {
      "text/html": [
       "<code>(mcons 1 (mcons 2 (mcons 3 (mcons 4 '()))))</code>"
      ],
      "text/plain": [
       "(mcons 1 (mcons 2 (mcons 3 (mcons 4 '()))))"
      ]
     },
     "execution_count": 23,
     "metadata": {},
     "output_type": "execute_result"
    }
   ],
   "source": [
    "(define (copy lst)\n",
    "    (if (null? lst)\n",
    "        nil\n",
    "        (adjoin (first lst)\n",
    "            (copy (rest lst)))))\n",
    "\n",
    "(define (append lst1 lst2)\n",
    "    (cond ((null? lst1) lst2)\n",
    "        (else\n",
    "            (adjoin (first lst1)\n",
    "                (append (rest lst1)\n",
    "                    lst2)))))\n",
    "(append (list 1 2) (list 3 4))"
   ]
  },
  {
   "cell_type": "code",
   "execution_count": 30,
   "metadata": {},
   "outputs": [
    {
     "data": {
      "text/html": [
       "<code>(mcons 1 1)</code>"
      ],
      "text/plain": [
       "(mcons 1 1)"
      ]
     },
     "execution_count": 30,
     "metadata": {},
     "output_type": "execute_result"
    }
   ],
   "source": [
    "; constructor\n",
    "\n",
    "(define (gcd a b)\n",
    "    (if (= b 0)\n",
    "        a\n",
    "        (gcd b (remainder a b))))\n",
    "\n",
    "\n",
    "(define (make-rat n d)\n",
    "    (let ( (g (gcd n d)))\n",
    "        (cons (/ n g)\n",
    "                (/ d g))))\n",
    "(define (numer r) (car r))\n",
    "(define (demon r) (cdr r))\n",
    "\n",
    "(define (print-rat rat) \n",
    "    (display (numer rat))\n",
    "    (display \"/\")\n",
    "    (display (demon rat)))\n",
    "\n",
    "; +rat: Rat, Rat -> Rat ; type contract\n",
    "(define (+rat x y)\n",
    "    (make-rat (+ (* (numer x) (demon y))\n",
    "                (* (numer y) (demon x)))\n",
    "            (* (demon x) (demon y))))\n",
    "; (+rat (make-rat 1 2) (make-rat 1 2))\n",
    "; *rat: Rat, Rat -> Rat \n",
    "(define (*rat x y)\n",
    "    (make-rat (* (numer x) (numer y))\n",
    "            (* (demon x) (demon y))))\n",
    "\n",
    "(+rat (make-rat 1 2) (make-rat 1 2))\n",
    "        \n"
   ]
  }
 ],
 "metadata": {
  "kernelspec": {
   "display_name": "Racket",
   "language": "racket",
   "name": "racket"
  },
  "language_info": {
   "codemirror_mode": "scheme",
   "file_extension": ".rkt",
   "mimetype": "text/x-racket",
   "name": "Racket",
   "pygments_lexer": "racket",
   "version": "8.4"
  },
  "orig_nbformat": 4
 },
 "nbformat": 4,
 "nbformat_minor": 2
}
